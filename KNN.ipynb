{
 "cells": [
  {
   "cell_type": "code",
   "execution_count": 1,
   "id": "894c2ad0",
   "metadata": {},
   "outputs": [],
   "source": [
    "import pandas as pd\n",
    "import matplotlib.pyplot as plt\n",
    "import numpy as np\n",
    "import seaborn as sns\n",
    "from sklearn.preprocessing import StandardScaler\n",
    "from scipy.stats import skew\n",
    "\n",
    "import warnings \n",
    "warnings.filterwarnings(\"ignore\")\n",
    "\n",
    "%matplotlib inline\n",
    "pd.set_option(\"display.max_columns\", None)"
   ]
  },
  {
   "cell_type": "code",
   "execution_count": 2,
   "id": "3339de99",
   "metadata": {},
   "outputs": [
    {
     "data": {
      "text/html": [
       "<div>\n",
       "<style scoped>\n",
       "    .dataframe tbody tr th:only-of-type {\n",
       "        vertical-align: middle;\n",
       "    }\n",
       "\n",
       "    .dataframe tbody tr th {\n",
       "        vertical-align: top;\n",
       "    }\n",
       "\n",
       "    .dataframe thead th {\n",
       "        text-align: right;\n",
       "    }\n",
       "</style>\n",
       "<table border=\"1\" class=\"dataframe\">\n",
       "  <thead>\n",
       "    <tr style=\"text-align: right;\">\n",
       "      <th></th>\n",
       "      <th>Survived</th>\n",
       "      <th>Pclass</th>\n",
       "      <th>Name</th>\n",
       "      <th>Sex</th>\n",
       "      <th>Age</th>\n",
       "      <th>SibSp</th>\n",
       "      <th>Parch</th>\n",
       "      <th>Ticket</th>\n",
       "      <th>Fare</th>\n",
       "      <th>Cabin</th>\n",
       "      <th>Embarked</th>\n",
       "    </tr>\n",
       "    <tr>\n",
       "      <th>PassengerId</th>\n",
       "      <th></th>\n",
       "      <th></th>\n",
       "      <th></th>\n",
       "      <th></th>\n",
       "      <th></th>\n",
       "      <th></th>\n",
       "      <th></th>\n",
       "      <th></th>\n",
       "      <th></th>\n",
       "      <th></th>\n",
       "      <th></th>\n",
       "    </tr>\n",
       "  </thead>\n",
       "  <tbody>\n",
       "    <tr>\n",
       "      <th>1</th>\n",
       "      <td>0</td>\n",
       "      <td>3</td>\n",
       "      <td>Braund, Mr. Owen Harris</td>\n",
       "      <td>male</td>\n",
       "      <td>22.0</td>\n",
       "      <td>1</td>\n",
       "      <td>0</td>\n",
       "      <td>A/5 21171</td>\n",
       "      <td>7.2500</td>\n",
       "      <td>NaN</td>\n",
       "      <td>S</td>\n",
       "    </tr>\n",
       "    <tr>\n",
       "      <th>2</th>\n",
       "      <td>1</td>\n",
       "      <td>1</td>\n",
       "      <td>Cumings, Mrs. John Bradley (Florence Briggs Th...</td>\n",
       "      <td>female</td>\n",
       "      <td>38.0</td>\n",
       "      <td>1</td>\n",
       "      <td>0</td>\n",
       "      <td>PC 17599</td>\n",
       "      <td>71.2833</td>\n",
       "      <td>C85</td>\n",
       "      <td>C</td>\n",
       "    </tr>\n",
       "    <tr>\n",
       "      <th>3</th>\n",
       "      <td>1</td>\n",
       "      <td>3</td>\n",
       "      <td>Heikkinen, Miss. Laina</td>\n",
       "      <td>female</td>\n",
       "      <td>26.0</td>\n",
       "      <td>0</td>\n",
       "      <td>0</td>\n",
       "      <td>STON/O2. 3101282</td>\n",
       "      <td>7.9250</td>\n",
       "      <td>NaN</td>\n",
       "      <td>S</td>\n",
       "    </tr>\n",
       "    <tr>\n",
       "      <th>4</th>\n",
       "      <td>1</td>\n",
       "      <td>1</td>\n",
       "      <td>Futrelle, Mrs. Jacques Heath (Lily May Peel)</td>\n",
       "      <td>female</td>\n",
       "      <td>35.0</td>\n",
       "      <td>1</td>\n",
       "      <td>0</td>\n",
       "      <td>113803</td>\n",
       "      <td>53.1000</td>\n",
       "      <td>C123</td>\n",
       "      <td>S</td>\n",
       "    </tr>\n",
       "    <tr>\n",
       "      <th>5</th>\n",
       "      <td>0</td>\n",
       "      <td>3</td>\n",
       "      <td>Allen, Mr. William Henry</td>\n",
       "      <td>male</td>\n",
       "      <td>35.0</td>\n",
       "      <td>0</td>\n",
       "      <td>0</td>\n",
       "      <td>373450</td>\n",
       "      <td>8.0500</td>\n",
       "      <td>NaN</td>\n",
       "      <td>S</td>\n",
       "    </tr>\n",
       "  </tbody>\n",
       "</table>\n",
       "</div>"
      ],
      "text/plain": [
       "             Survived  Pclass  \\\n",
       "PassengerId                     \n",
       "1                   0       3   \n",
       "2                   1       1   \n",
       "3                   1       3   \n",
       "4                   1       1   \n",
       "5                   0       3   \n",
       "\n",
       "                                                          Name     Sex   Age  \\\n",
       "PassengerId                                                                    \n",
       "1                                      Braund, Mr. Owen Harris    male  22.0   \n",
       "2            Cumings, Mrs. John Bradley (Florence Briggs Th...  female  38.0   \n",
       "3                                       Heikkinen, Miss. Laina  female  26.0   \n",
       "4                 Futrelle, Mrs. Jacques Heath (Lily May Peel)  female  35.0   \n",
       "5                                     Allen, Mr. William Henry    male  35.0   \n",
       "\n",
       "             SibSp  Parch            Ticket     Fare Cabin Embarked  \n",
       "PassengerId                                                          \n",
       "1                1      0         A/5 21171   7.2500   NaN        S  \n",
       "2                1      0          PC 17599  71.2833   C85        C  \n",
       "3                0      0  STON/O2. 3101282   7.9250   NaN        S  \n",
       "4                1      0            113803  53.1000  C123        S  \n",
       "5                0      0            373450   8.0500   NaN        S  "
      ]
     },
     "execution_count": 2,
     "metadata": {},
     "output_type": "execute_result"
    }
   ],
   "source": [
    "test_df = pd.read_excel(r'Data/Titanic_Survival_Test.xls', header = 0, index_col=0)\n",
    "train_df = pd.read_excel(r'Data/Titanic_Survival_Train.xls', header = 0, index_col=0)\n",
    "train_df.head()"
   ]
  },
  {
   "cell_type": "code",
   "execution_count": 3,
   "id": "59c9bd97",
   "metadata": {},
   "outputs": [],
   "source": [
    "import pandas as pd\n",
    "import matplotlib.pyplot as plt\n",
    "%matplotlib inline\n",
    "\n",
    "def create_piechart(data, column):\n",
    "    \"\"\"\n",
    "    objective: Create piechart for categorical variables present in Pandas Dataframe\n",
    "    \n",
    "    Params:\n",
    "        data: this is pandas dataframe\n",
    "        column: this is column name which is used to create plot\n",
    "        \n",
    "    Return: \n",
    "        This will show piechart\n",
    "    \"\"\"\n",
    "    labels = list(data[column].value_counts().to_dict().keys())\n",
    "    sizes = list(data[column].value_counts().to_dict().values())\n",
    "    \n",
    "    plt.pie(sizes,\n",
    "           labels = labels,\n",
    "           autopct = '%1.2f%%',\n",
    "           shadow = False,\n",
    "           startangle = 45)\n",
    "    plt.axis('equal')\n",
    "    plt.title(\"Piechart - {}\".format(column))\n",
    "    plt.show()"
   ]
  },
  {
   "cell_type": "code",
   "execution_count": 4,
   "id": "e83b6e29",
   "metadata": {},
   "outputs": [
    {
     "name": "stdout",
     "output_type": "stream",
     "text": [
      "(891, 11)\n",
      "(21, 11)\n"
     ]
    }
   ],
   "source": [
    "print(train_df.shape)\n",
    "print(test_df.shape)"
   ]
  },
  {
   "cell_type": "markdown",
   "id": "1c674c51",
   "metadata": {},
   "source": [
    "## Step2: EDA"
   ]
  },
  {
   "cell_type": "code",
   "execution_count": 5,
   "id": "5a8e1b6f",
   "metadata": {},
   "outputs": [
    {
     "data": {
      "image/png": "[encoded data removed]",
      "text/plain": [
       "<Figure size 432x288 with 1 Axes>"
      ]
     },
     "metadata": {
      "needs_background": "light"
     },
     "output_type": "display_data"
    }
   ],
   "source": [
    "# Plot histogram\n",
    "sns.histplot(data = train_df, x=\"Age\", kde = True)\n",
    "plt.show()"
   ]
  },
  {
   "cell_type": "markdown",
   "id": "a1c96351",
   "metadata": {},
   "source": [
    "- Majority passengers blong to age group 20 to 40\n",
    "- Chindren from 1 to 5 age is 40\n",
    "- Less senior citizen"
   ]
  },
  {
   "cell_type": "code",
   "execution_count": 6,
   "id": "ec19fdf5",
   "metadata": {},
   "outputs": [
    {
     "data": {
      "image/png": "[encoded data removed]",
      "text/plain": [
       "<Figure size 432x288 with 1 Axes>"
      ]
     },
     "metadata": {
      "needs_background": "light"
     },
     "output_type": "display_data"
    }
   ],
   "source": [
    "# Plot histogram\n",
    "sns.histplot(data = train_df, \n",
    "             x =\"Age\", \n",
    "             kde = True,\n",
    "             hue = \"Survived\",\n",
    "             element = \"poly\")\n",
    "plt.show()"
   ]
  },
  {
   "cell_type": "markdown",
   "id": "96f198ce",
   "metadata": {},
   "source": [
    "- Age group 20 to 40 half population survided\n",
    "- chindren 0 to 8 ages all survived"
   ]
  },
  {
   "cell_type": "code",
   "execution_count": 7,
   "id": "cf72d1d4",
   "metadata": {},
   "outputs": [
    {
     "data": {
      "image/png": "[encoded data removed]",
      "text/plain": [
       "<Figure size 432x288 with 1 Axes>"
      ]
     },
     "metadata": {},
     "output_type": "display_data"
    }
   ],
   "source": [
    "create_piechart(train_df, \"Survived\")"
   ]
  },
  {
   "cell_type": "code",
   "execution_count": 8,
   "id": "7e0b1051",
   "metadata": {},
   "outputs": [
    {
     "data": {
      "image/png": "[encoded data removed]",
      "text/plain": [
       "<Figure size 432x288 with 1 Axes>"
      ]
     },
     "metadata": {},
     "output_type": "display_data"
    }
   ],
   "source": [
    "create_piechart(train_df, \"Sex\")"
   ]
  },
  {
   "cell_type": "code",
   "execution_count": 9,
   "id": "806d63a9",
   "metadata": {},
   "outputs": [
    {
     "data": {
      "image/png": "[encoded data removed]",
      "text/plain": [
       "<Figure size 402.375x360 with 1 Axes>"
      ]
     },
     "metadata": {
      "needs_background": "light"
     },
     "output_type": "display_data"
    }
   ],
   "source": [
    "sns.catplot(data=train_df,\n",
    "           x=\"Sex\",\n",
    "           y=\"Survived\",\n",
    "           hue = \"Pclass\",\n",
    "           kind = \"bar\")\n",
    "plt.show()"
   ]
  },
  {
   "cell_type": "markdown",
   "id": "906981e7",
   "metadata": {},
   "source": [
    "- Chanses of survival for class 1 female is 90 to 100%\n",
    "- Chanses of survival for class 3 female is more than class 1 male\n",
    "- Class 3 male has very the least less than 20% chance of survival"
   ]
  },
  {
   "cell_type": "code",
   "execution_count": 10,
   "id": "126da437",
   "metadata": {},
   "outputs": [
    {
     "data": {
      "image/png": "[encoded data removed]",
      "text/plain": [
       "<Figure size 402.375x360 with 1 Axes>"
      ]
     },
     "metadata": {
      "needs_background": "light"
     },
     "output_type": "display_data"
    }
   ],
   "source": [
    "sns.catplot(data=train_df,\n",
    "           x=\"Sex\",\n",
    "           y=\"Age\",\n",
    "           hue = \"Pclass\",\n",
    "           kind = \"box\")\n",
    "plt.show()"
   ]
  },
  {
   "cell_type": "markdown",
   "id": "27afb34e",
   "metadata": {},
   "source": [
    "- Pclass 1 male passengers from age group 0 to 80 no outlierrs\n",
    "- Pclass 3 male age group 0 to 50 has several old age people who suppose to be in Pclass 1 as per their age\n",
    "- Pclass 3 Female has one outlier whos age is around 70 who do not belong in Pclass age group which is 0 to 50"
   ]
  },
  {
   "cell_type": "code",
   "execution_count": 11,
   "id": "818b1d88",
   "metadata": {},
   "outputs": [
    {
     "data": {
      "image/png": "[encoded data removed]",
      "text/plain": [
       "<Figure size 402.375x360 with 1 Axes>"
      ]
     },
     "metadata": {
      "needs_background": "light"
     },
     "output_type": "display_data"
    }
   ],
   "source": [
    "sns.catplot(data=train_df,\n",
    "           x=\"Sex\",\n",
    "           y=\"Age\",\n",
    "           hue = \"Pclass\",\n",
    "           kind = \"violin\")\n",
    "plt.show()"
   ]
  },
  {
   "cell_type": "code",
   "execution_count": 12,
   "id": "d51974ca",
   "metadata": {},
   "outputs": [
    {
     "data": {
      "image/png": "[encoded data removed]",
      "text/plain": [
       "<Figure size 432x288 with 1 Axes>"
      ]
     },
     "metadata": {
      "needs_background": "light"
     },
     "output_type": "display_data"
    }
   ],
   "source": [
    "sns.countplot(x=\"Survived\", hue=\"Embarked\", data = train_df)\n",
    "plt.show()"
   ]
  },
  {
   "cell_type": "markdown",
   "id": "73b01870",
   "metadata": {},
   "source": [
    "- S location has max deaths and other two locatons has very less deaths(Probably very less passengers embarked from location C & Q)"
   ]
  },
  {
   "cell_type": "code",
   "execution_count": 13,
   "id": "fa3ac0ad",
   "metadata": {},
   "outputs": [
    {
     "data": {
      "image/png": "[encoded data removed]",
      "text/plain": [
       "<Figure size 432x288 with 1 Axes>"
      ]
     },
     "metadata": {
      "needs_background": "light"
     },
     "output_type": "display_data"
    }
   ],
   "source": [
    "sns.scatterplot(data = train_df, x = \"Fare\", y =\"Age\", hue = \"Pclass\", palette = \"gist_rainbow\")\n",
    "plt.show()"
   ]
  },
  {
   "cell_type": "markdown",
   "id": "05307134",
   "metadata": {},
   "source": [
    "- Pclass 1 has paid max amount of fare and no of passengers are also more"
   ]
  },
  {
   "cell_type": "code",
   "execution_count": 14,
   "id": "6514f6de",
   "metadata": {},
   "outputs": [
    {
     "data": {
      "image/png": "[encoded data removed]",
      "text/plain": [
       "<Figure size 432x288 with 1 Axes>"
      ]
     },
     "metadata": {
      "needs_background": "light"
     },
     "output_type": "display_data"
    }
   ],
   "source": [
    "sns.scatterplot(data = train_df, x = \"Fare\", y =\"Age\", hue = \"Survived\", palette = \"gist_rainbow\")\n",
    "plt.show()"
   ]
  },
  {
   "cell_type": "markdown",
   "id": "38cc315a",
   "metadata": {},
   "source": [
    "- Chanses of survival increased with increase in fare amount"
   ]
  },
  {
   "cell_type": "markdown",
   "id": "9fd1fd9e",
   "metadata": {},
   "source": [
    "### Step 3: Data Preprocessing"
   ]
  },
  {
   "cell_type": "code",
   "execution_count": 15,
   "id": "52853f28",
   "metadata": {},
   "outputs": [
    {
     "data": {
      "text/plain": [
       "Index(['Survived', 'Pclass', 'Name', 'Sex', 'Age', 'SibSp', 'Parch', 'Ticket',\n",
       "       'Fare', 'Cabin', 'Embarked'],\n",
       "      dtype='object')"
      ]
     },
     "execution_count": 15,
     "metadata": {},
     "output_type": "execute_result"
    }
   ],
   "source": [
    "train_df.columns"
   ]
  },
  {
   "cell_type": "code",
   "execution_count": 16,
   "id": "4a28f79c",
   "metadata": {},
   "outputs": [
    {
     "data": {
      "text/html": [
       "<div>\n",
       "<style scoped>\n",
       "    .dataframe tbody tr th:only-of-type {\n",
       "        vertical-align: middle;\n",
       "    }\n",
       "\n",
       "    .dataframe tbody tr th {\n",
       "        vertical-align: top;\n",
       "    }\n",
       "\n",
       "    .dataframe thead th {\n",
       "        text-align: right;\n",
       "    }\n",
       "</style>\n",
       "<table border=\"1\" class=\"dataframe\">\n",
       "  <thead>\n",
       "    <tr style=\"text-align: right;\">\n",
       "      <th></th>\n",
       "      <th>Survived</th>\n",
       "      <th>Pclass</th>\n",
       "      <th>Name</th>\n",
       "      <th>Sex</th>\n",
       "      <th>Age</th>\n",
       "      <th>SibSp</th>\n",
       "      <th>Parch</th>\n",
       "      <th>Ticket</th>\n",
       "      <th>Fare</th>\n",
       "      <th>Cabin</th>\n",
       "      <th>Embarked</th>\n",
       "    </tr>\n",
       "    <tr>\n",
       "      <th>PassengerId</th>\n",
       "      <th></th>\n",
       "      <th></th>\n",
       "      <th></th>\n",
       "      <th></th>\n",
       "      <th></th>\n",
       "      <th></th>\n",
       "      <th></th>\n",
       "      <th></th>\n",
       "      <th></th>\n",
       "      <th></th>\n",
       "      <th></th>\n",
       "    </tr>\n",
       "  </thead>\n",
       "  <tbody>\n",
       "    <tr>\n",
       "      <th>1</th>\n",
       "      <td>0</td>\n",
       "      <td>3</td>\n",
       "      <td>Braund, Mr. Owen Harris</td>\n",
       "      <td>male</td>\n",
       "      <td>22.0</td>\n",
       "      <td>1</td>\n",
       "      <td>0</td>\n",
       "      <td>A/5 21171</td>\n",
       "      <td>7.2500</td>\n",
       "      <td>NaN</td>\n",
       "      <td>S</td>\n",
       "    </tr>\n",
       "    <tr>\n",
       "      <th>2</th>\n",
       "      <td>1</td>\n",
       "      <td>1</td>\n",
       "      <td>Cumings, Mrs. John Bradley (Florence Briggs Th...</td>\n",
       "      <td>female</td>\n",
       "      <td>38.0</td>\n",
       "      <td>1</td>\n",
       "      <td>0</td>\n",
       "      <td>PC 17599</td>\n",
       "      <td>71.2833</td>\n",
       "      <td>C85</td>\n",
       "      <td>C</td>\n",
       "    </tr>\n",
       "    <tr>\n",
       "      <th>3</th>\n",
       "      <td>1</td>\n",
       "      <td>3</td>\n",
       "      <td>Heikkinen, Miss. Laina</td>\n",
       "      <td>female</td>\n",
       "      <td>26.0</td>\n",
       "      <td>0</td>\n",
       "      <td>0</td>\n",
       "      <td>STON/O2. 3101282</td>\n",
       "      <td>7.9250</td>\n",
       "      <td>NaN</td>\n",
       "      <td>S</td>\n",
       "    </tr>\n",
       "    <tr>\n",
       "      <th>4</th>\n",
       "      <td>1</td>\n",
       "      <td>1</td>\n",
       "      <td>Futrelle, Mrs. Jacques Heath (Lily May Peel)</td>\n",
       "      <td>female</td>\n",
       "      <td>35.0</td>\n",
       "      <td>1</td>\n",
       "      <td>0</td>\n",
       "      <td>113803</td>\n",
       "      <td>53.1000</td>\n",
       "      <td>C123</td>\n",
       "      <td>S</td>\n",
       "    </tr>\n",
       "    <tr>\n",
       "      <th>5</th>\n",
       "      <td>0</td>\n",
       "      <td>3</td>\n",
       "      <td>Allen, Mr. William Henry</td>\n",
       "      <td>male</td>\n",
       "      <td>35.0</td>\n",
       "      <td>0</td>\n",
       "      <td>0</td>\n",
       "      <td>373450</td>\n",
       "      <td>8.0500</td>\n",
       "      <td>NaN</td>\n",
       "      <td>S</td>\n",
       "    </tr>\n",
       "  </tbody>\n",
       "</table>\n",
       "</div>"
      ],
      "text/plain": [
       "             Survived  Pclass  \\\n",
       "PassengerId                     \n",
       "1                   0       3   \n",
       "2                   1       1   \n",
       "3                   1       3   \n",
       "4                   1       1   \n",
       "5                   0       3   \n",
       "\n",
       "                                                          Name     Sex   Age  \\\n",
       "PassengerId                                                                    \n",
       "1                                      Braund, Mr. Owen Harris    male  22.0   \n",
       "2            Cumings, Mrs. John Bradley (Florence Briggs Th...  female  38.0   \n",
       "3                                       Heikkinen, Miss. Laina  female  26.0   \n",
       "4                 Futrelle, Mrs. Jacques Heath (Lily May Peel)  female  35.0   \n",
       "5                                     Allen, Mr. William Henry    male  35.0   \n",
       "\n",
       "             SibSp  Parch            Ticket     Fare Cabin Embarked  \n",
       "PassengerId                                                          \n",
       "1                1      0         A/5 21171   7.2500   NaN        S  \n",
       "2                1      0          PC 17599  71.2833   C85        C  \n",
       "3                0      0  STON/O2. 3101282   7.9250   NaN        S  \n",
       "4                1      0            113803  53.1000  C123        S  \n",
       "5                0      0            373450   8.0500   NaN        S  "
      ]
     },
     "execution_count": 16,
     "metadata": {},
     "output_type": "execute_result"
    }
   ],
   "source": [
    "train_df.head()"
   ]
  },
  {
   "cell_type": "code",
   "execution_count": 17,
   "id": "3353a033",
   "metadata": {},
   "outputs": [],
   "source": [
    "# feature selection\n",
    "train_df = train_df[['Name','Pclass','Sex','Age','Survived']]\n",
    "test_df = test_df[['Name','Pclass','Sex','Age','Survived']]"
   ]
  },
  {
   "cell_type": "code",
   "execution_count": 18,
   "id": "1d9dc12c",
   "metadata": {},
   "outputs": [
    {
     "name": "stdout",
     "output_type": "stream",
     "text": [
      "Name          0\n",
      "Pclass        0\n",
      "Sex           0\n",
      "Age         177\n",
      "Survived      0\n",
      "dtype: int64\n",
      "\n",
      "Name        0\n",
      "Pclass      0\n",
      "Sex         0\n",
      "Age         2\n",
      "Survived    0\n",
      "dtype: int64\n"
     ]
    }
   ],
   "source": [
    "# finding the missing values\n",
    "print(train_df.isnull().sum())\n",
    "print()\n",
    "print(test_df.isnull().sum())"
   ]
  },
  {
   "cell_type": "code",
   "execution_count": 19,
   "id": "e22f4494",
   "metadata": {},
   "outputs": [],
   "source": [
    "# Imputing numerical missing data with mean value\n",
    "train_df[\"Age\"].fillna(train_df[\"Age\"].mean(), inplace = True)\n",
    "\n",
    "# Imputing numerical missing data with mean value\n",
    "test_df[\"Age\"].fillna(test_df[\"Age\"].mean(), inplace = True)\n",
    "\n"
   ]
  },
  {
   "cell_type": "code",
   "execution_count": 20,
   "id": "82157128",
   "metadata": {},
   "outputs": [
    {
     "name": "stdout",
     "output_type": "stream",
     "text": [
      "Name        0\n",
      "Pclass      0\n",
      "Sex         0\n",
      "Age         0\n",
      "Survived    0\n",
      "dtype: int64\n",
      "\n",
      "Name        0\n",
      "Pclass      0\n",
      "Sex         0\n",
      "Age         0\n",
      "Survived    0\n",
      "dtype: int64\n"
     ]
    }
   ],
   "source": [
    "#finding the missing values\n",
    "print(train_df.isnull().sum())\n",
    "print()\n",
    "print(test_df.isnull().sum())\n"
   ]
  },
  {
   "cell_type": "markdown",
   "id": "090cb200",
   "metadata": {},
   "source": [
    "## Data normalisation"
   ]
  },
  {
   "cell_type": "code",
   "execution_count": 21,
   "id": "db877da8",
   "metadata": {},
   "outputs": [],
   "source": [
    "train_df[\"Sex\"]=train_df[\"Sex\"].map({\"male\":0, \"female\":1})\n",
    "test_df[\"Sex\"]=test_df[\"Sex\"].map({\"male\":0, \"female\":1})"
   ]
  },
  {
   "cell_type": "code",
   "execution_count": 22,
   "id": "79bbac8e",
   "metadata": {},
   "outputs": [
    {
     "data": {
      "text/html": [
       "<div>\n",
       "<style scoped>\n",
       "    .dataframe tbody tr th:only-of-type {\n",
       "        vertical-align: middle;\n",
       "    }\n",
       "\n",
       "    .dataframe tbody tr th {\n",
       "        vertical-align: top;\n",
       "    }\n",
       "\n",
       "    .dataframe thead th {\n",
       "        text-align: right;\n",
       "    }\n",
       "</style>\n",
       "<table border=\"1\" class=\"dataframe\">\n",
       "  <thead>\n",
       "    <tr style=\"text-align: right;\">\n",
       "      <th></th>\n",
       "      <th>Name</th>\n",
       "      <th>Pclass</th>\n",
       "      <th>Sex</th>\n",
       "      <th>Age</th>\n",
       "      <th>Survived</th>\n",
       "    </tr>\n",
       "    <tr>\n",
       "      <th>PassengerId</th>\n",
       "      <th></th>\n",
       "      <th></th>\n",
       "      <th></th>\n",
       "      <th></th>\n",
       "      <th></th>\n",
       "    </tr>\n",
       "  </thead>\n",
       "  <tbody>\n",
       "    <tr>\n",
       "      <th>887</th>\n",
       "      <td>Montvila, Rev. Juozas</td>\n",
       "      <td>2</td>\n",
       "      <td>0</td>\n",
       "      <td>27.000000</td>\n",
       "      <td>0</td>\n",
       "    </tr>\n",
       "    <tr>\n",
       "      <th>888</th>\n",
       "      <td>Graham, Miss. Margaret Edith</td>\n",
       "      <td>1</td>\n",
       "      <td>1</td>\n",
       "      <td>19.000000</td>\n",
       "      <td>1</td>\n",
       "    </tr>\n",
       "    <tr>\n",
       "      <th>889</th>\n",
       "      <td>Johnston, Miss. Catherine Helen \"Carrie\"</td>\n",
       "      <td>3</td>\n",
       "      <td>1</td>\n",
       "      <td>29.699118</td>\n",
       "      <td>0</td>\n",
       "    </tr>\n",
       "    <tr>\n",
       "      <th>890</th>\n",
       "      <td>Behr, Mr. Karl Howell</td>\n",
       "      <td>1</td>\n",
       "      <td>0</td>\n",
       "      <td>26.000000</td>\n",
       "      <td>1</td>\n",
       "    </tr>\n",
       "    <tr>\n",
       "      <th>891</th>\n",
       "      <td>Dooley, Mr. Patrick</td>\n",
       "      <td>3</td>\n",
       "      <td>0</td>\n",
       "      <td>32.000000</td>\n",
       "      <td>0</td>\n",
       "    </tr>\n",
       "  </tbody>\n",
       "</table>\n",
       "</div>"
      ],
      "text/plain": [
       "                                                 Name  Pclass  Sex        Age  \\\n",
       "PassengerId                                                                     \n",
       "887                             Montvila, Rev. Juozas       2    0  27.000000   \n",
       "888                      Graham, Miss. Margaret Edith       1    1  19.000000   \n",
       "889          Johnston, Miss. Catherine Helen \"Carrie\"       3    1  29.699118   \n",
       "890                             Behr, Mr. Karl Howell       1    0  26.000000   \n",
       "891                               Dooley, Mr. Patrick       3    0  32.000000   \n",
       "\n",
       "             Survived  \n",
       "PassengerId            \n",
       "887                 0  \n",
       "888                 1  \n",
       "889                 0  \n",
       "890                 1  \n",
       "891                 0  "
      ]
     },
     "execution_count": 22,
     "metadata": {},
     "output_type": "execute_result"
    }
   ],
   "source": [
    "train_df.tail()"
   ]
  },
  {
   "cell_type": "code",
   "execution_count": 23,
   "id": "c13839c7",
   "metadata": {},
   "outputs": [
    {
     "data": {
      "text/html": [
       "<div>\n",
       "<style scoped>\n",
       "    .dataframe tbody tr th:only-of-type {\n",
       "        vertical-align: middle;\n",
       "    }\n",
       "\n",
       "    .dataframe tbody tr th {\n",
       "        vertical-align: top;\n",
       "    }\n",
       "\n",
       "    .dataframe thead th {\n",
       "        text-align: right;\n",
       "    }\n",
       "</style>\n",
       "<table border=\"1\" class=\"dataframe\">\n",
       "  <thead>\n",
       "    <tr style=\"text-align: right;\">\n",
       "      <th></th>\n",
       "      <th>Name</th>\n",
       "      <th>Pclass</th>\n",
       "      <th>Sex</th>\n",
       "      <th>Age</th>\n",
       "      <th>Survived</th>\n",
       "    </tr>\n",
       "    <tr>\n",
       "      <th>PassengerId</th>\n",
       "      <th></th>\n",
       "      <th></th>\n",
       "      <th></th>\n",
       "      <th></th>\n",
       "      <th></th>\n",
       "    </tr>\n",
       "  </thead>\n",
       "  <tbody>\n",
       "    <tr>\n",
       "      <th>887</th>\n",
       "      <td>Montvila, Rev. Juozas</td>\n",
       "      <td>2</td>\n",
       "      <td>0</td>\n",
       "      <td>27.000000</td>\n",
       "      <td>0</td>\n",
       "    </tr>\n",
       "    <tr>\n",
       "      <th>888</th>\n",
       "      <td>Graham, Miss. Margaret Edith</td>\n",
       "      <td>1</td>\n",
       "      <td>1</td>\n",
       "      <td>19.000000</td>\n",
       "      <td>1</td>\n",
       "    </tr>\n",
       "    <tr>\n",
       "      <th>889</th>\n",
       "      <td>Johnston, Miss. Catherine Helen \"Carrie\"</td>\n",
       "      <td>3</td>\n",
       "      <td>1</td>\n",
       "      <td>29.842105</td>\n",
       "      <td>0</td>\n",
       "    </tr>\n",
       "    <tr>\n",
       "      <th>890</th>\n",
       "      <td>Behr, Mr. Karl Howell</td>\n",
       "      <td>1</td>\n",
       "      <td>0</td>\n",
       "      <td>26.000000</td>\n",
       "      <td>1</td>\n",
       "    </tr>\n",
       "    <tr>\n",
       "      <th>891</th>\n",
       "      <td>Dooley, Mr. Patrick</td>\n",
       "      <td>3</td>\n",
       "      <td>0</td>\n",
       "      <td>32.000000</td>\n",
       "      <td>0</td>\n",
       "    </tr>\n",
       "  </tbody>\n",
       "</table>\n",
       "</div>"
      ],
      "text/plain": [
       "                                                 Name  Pclass  Sex        Age  \\\n",
       "PassengerId                                                                     \n",
       "887                             Montvila, Rev. Juozas       2    0  27.000000   \n",
       "888                      Graham, Miss. Margaret Edith       1    1  19.000000   \n",
       "889          Johnston, Miss. Catherine Helen \"Carrie\"       3    1  29.842105   \n",
       "890                             Behr, Mr. Karl Howell       1    0  26.000000   \n",
       "891                               Dooley, Mr. Patrick       3    0  32.000000   \n",
       "\n",
       "             Survived  \n",
       "PassengerId            \n",
       "887                 0  \n",
       "888                 1  \n",
       "889                 0  \n",
       "890                 1  \n",
       "891                 0  "
      ]
     },
     "execution_count": 23,
     "metadata": {},
     "output_type": "execute_result"
    }
   ],
   "source": [
    "test_df.tail()"
   ]
  },
  {
   "cell_type": "markdown",
   "id": "e04043bb",
   "metadata": {},
   "source": [
    "- Test data is alreday a part of training data"
   ]
  },
  {
   "cell_type": "code",
   "execution_count": 24,
   "id": "dd2bc5a7",
   "metadata": {},
   "outputs": [],
   "source": [
    "X_train = train_df.values[:870, 1:-1] # variables from pclass to age[observation]\n",
    "y_train=train_df.values[:870, -1] # passengers id 1 to 870\n",
    "y_train = y_train.astype(int) # convert into integer\n",
    "\n",
    "X_test = test_df.values[:, 1:-1]\n",
    "y_test = test_df.values[:, -1]\n",
    "y_test = y_test.astype(int)"
   ]
  },
  {
   "cell_type": "code",
   "execution_count": 25,
   "id": "d3eb24cf",
   "metadata": {},
   "outputs": [],
   "source": [
    "from sklearn.preprocessing import StandardScaler, MinMaxScaler\n",
    "\n",
    "# mean = 0 and std = 1\n",
    "scaler = StandardScaler()\n",
    "\n",
    "scaler.fit(X_train)\n",
    "\n",
    "X_train_scale = scaler.transform(X_train)\n",
    "X_test_scale = scaler.transform(X_test)\n",
    "# while working on seperate train test data, fit the scaler object only\n",
    "# and use the same scaler object  to transfrom both the train as well as test\n"
   ]
  },
  {
   "cell_type": "code",
   "execution_count": 26,
   "id": "9adfa8ee",
   "metadata": {},
   "outputs": [
    {
     "data": {
      "text/plain": [
       "array([[ 8.28102044e-01, -7.34726486e-01, -5.89320802e-01],\n",
       "       [-1.56541549e+00,  1.36105070e+00,  6.35879178e-01],\n",
       "       [ 8.28102044e-01,  1.36105070e+00, -2.83020807e-01],\n",
       "       ...,\n",
       "       [-1.56541549e+00, -7.34726486e-01,  9.98541867e-02],\n",
       "       [ 8.28102044e-01, -7.34726486e-01,  2.39122131e-04],\n",
       "       [ 8.28102044e-01, -7.34726486e-01, -1.96767078e+00]])"
      ]
     },
     "execution_count": 26,
     "metadata": {},
     "output_type": "execute_result"
    }
   ],
   "source": [
    "X_train_scale"
   ]
  },
  {
   "cell_type": "code",
   "execution_count": 27,
   "id": "93b1e27f",
   "metadata": {},
   "outputs": [
    {
     "data": {
      "text/plain": [
       "array([[ 0.82810204, -0.73472649, -0.28302081],\n",
       "       [-1.56541549,  1.3610507 ,  1.32505417],\n",
       "       [-1.56541549, -0.73472649,  0.25300418],\n",
       "       [ 0.82810204, -0.73472649,  1.32505417],\n",
       "       [-0.36865672,  1.3610507 , -0.12987081],\n",
       "       [ 0.82810204,  1.3610507 , -1.12534579],\n",
       "       [ 0.82810204, -0.73472649, -0.7424708 ],\n",
       "       [ 0.82810204, -0.73472649, -0.8190458 ],\n",
       "       [ 0.82810204, -0.73472649,  0.0111884 ],\n",
       "       [-1.56541549,  1.3610507 ,  2.01422916],\n",
       "       [-0.36865672,  1.3610507 , -0.35959581],\n",
       "       [ 0.82810204, -0.73472649,  0.25300418],\n",
       "       [ 0.82810204,  1.3610507 , -0.5893208 ],\n",
       "       [-0.36865672, -0.73472649, -0.12987081],\n",
       "       [ 0.82810204, -0.73472649, -0.35959581],\n",
       "       [ 0.82810204,  1.3610507 ,  0.71245418],\n",
       "       [-0.36865672, -0.73472649, -0.20644581],\n",
       "       [-1.56541549,  1.3610507 , -0.8190458 ],\n",
       "       [ 0.82810204,  1.3610507 ,  0.0111884 ],\n",
       "       [-1.56541549, -0.73472649, -0.28302081],\n",
       "       [ 0.82810204, -0.73472649,  0.17642919]])"
      ]
     },
     "execution_count": 27,
     "metadata": {},
     "output_type": "execute_result"
    }
   ],
   "source": [
    "X_test_scale"
   ]
  },
  {
   "cell_type": "code",
   "execution_count": 28,
   "id": "1efad222",
   "metadata": {},
   "outputs": [],
   "source": [
    "from sklearn.linear_model import LogisticRegression"
   ]
  },
  {
   "cell_type": "code",
   "execution_count": 29,
   "id": "d5861438",
   "metadata": {},
   "outputs": [
    {
     "name": "stdout",
     "output_type": "stream",
     "text": [
      "[(0, 0), (1, 1), (0, 0), (0, 0), (1, 1), (1, 1), (0, 0), (0, 0), (0, 0), (1, 1), (1, 1), (0, 0), (0, 1), (0, 0), (0, 0), (0, 0), (0, 0), (1, 1), (0, 1), (1, 1), (0, 0)]\n",
      "CPU times: total: 15.6 ms\n",
      "Wall time: 25.9 ms\n"
     ]
    }
   ],
   "source": [
    "%%time\n",
    "#create a model\n",
    "classifier = LogisticRegression()\n",
    "\n",
    "#create a model\n",
    "classifier.fit(X_train_scale, y_train)\n",
    "\n",
    "# predict using the model\n",
    "y_pred = classifier.predict(X_test_scale)\n",
    "\n",
    "print(list(zip(y_test,y_pred)))"
   ]
  },
  {
   "cell_type": "code",
   "execution_count": 30,
   "id": "dd5bf9e5",
   "metadata": {},
   "outputs": [
    {
     "name": "stdout",
     "output_type": "stream",
     "text": [
      "[[12  2]\n",
      " [ 0  7]]\n",
      "Classification report: \n",
      "              precision    recall  f1-score   support\n",
      "\n",
      "           0       1.00      0.86      0.92        14\n",
      "           1       0.78      1.00      0.88         7\n",
      "\n",
      "    accuracy                           0.90        21\n",
      "   macro avg       0.89      0.93      0.90        21\n",
      "weighted avg       0.93      0.90      0.91        21\n",
      "\n",
      "Accuracy of the model:  0.9047619047619048\n"
     ]
    }
   ],
   "source": [
    "from sklearn.metrics import confusion_matrix, accuracy_score, classification_report\n",
    "\n",
    "cfm =confusion_matrix(y_test,y_pred)\n",
    "\n",
    "print(cfm)\n",
    "\n",
    "print(\"Classification report: \")\n",
    "\n",
    "print(classification_report(y_test,y_pred))\n",
    "\n",
    "acc=accuracy_score(y_test, y_pred)\n",
    "print(\"Accuracy of the model: \",acc)"
   ]
  },
  {
   "cell_type": "code",
   "execution_count": 31,
   "id": "919eb233",
   "metadata": {},
   "outputs": [
    {
     "name": "stdout",
     "output_type": "stream",
     "text": [
      "[[459  76]\n",
      " [100 235]]\n",
      "Classification report: \n",
      "              precision    recall  f1-score   support\n",
      "\n",
      "           0       0.82      0.86      0.84       535\n",
      "           1       0.76      0.70      0.73       335\n",
      "\n",
      "    accuracy                           0.80       870\n",
      "   macro avg       0.79      0.78      0.78       870\n",
      "weighted avg       0.80      0.80      0.80       870\n",
      "\n",
      "Accuracy of the model:  0.7977011494252874\n"
     ]
    }
   ],
   "source": [
    "y_pred_train = classifier.predict(X_train_scale)\n",
    "\n",
    "\n",
    "cfm =confusion_matrix(y_train,y_pred_train)\n",
    "\n",
    "print(cfm)\n",
    "\n",
    "print(\"Classification report: \")\n",
    "\n",
    "print(classification_report(y_train,y_pred_train))\n",
    "\n",
    "acc=accuracy_score(y_train, y_pred_train)\n",
    "print(\"Accuracy of the model: \",acc)"
   ]
  },
  {
   "cell_type": "markdown",
   "id": "6e4c7e12",
   "metadata": {},
   "source": [
    "### Using Sklearn KNN"
   ]
  },
  {
   "cell_type": "code",
   "execution_count": 34,
   "id": "30741690",
   "metadata": {},
   "outputs": [],
   "source": [
    "# Predicting using the Kneighbours_Classifier\n",
    "from sklearn.neighbors import KNeighborsClassifier"
   ]
  },
  {
   "cell_type": "code",
   "execution_count": 51,
   "id": "4e3e9a5c",
   "metadata": {},
   "outputs": [
    {
     "data": {
      "text/plain": [
       "KNeighborsClassifier(n_neighbors=85)"
      ]
     },
     "execution_count": 51,
     "metadata": {},
     "output_type": "execute_result"
    }
   ],
   "source": [
    "\n",
    "model_KNN = KNeighborsClassifier(n_neighbors = 85)\n",
    "# fit the model on the data and predict the values\n",
    "model_KNN.fit(X_train_scale,y_train)\n"
   ]
  },
  {
   "cell_type": "markdown",
   "id": "5da0ce4a",
   "metadata": {},
   "source": [
    "### Test data evaluation"
   ]
  },
  {
   "cell_type": "code",
   "execution_count": 52,
   "id": "8851ab7a",
   "metadata": {},
   "outputs": [
    {
     "name": "stdout",
     "output_type": "stream",
     "text": [
      "[[11  3]\n",
      " [ 1  6]]\n",
      "Classification report: \n",
      "              precision    recall  f1-score   support\n",
      "\n",
      "           0       0.92      0.79      0.85        14\n",
      "           1       0.67      0.86      0.75         7\n",
      "\n",
      "    accuracy                           0.81        21\n",
      "   macro avg       0.79      0.82      0.80        21\n",
      "weighted avg       0.83      0.81      0.81        21\n",
      "\n",
      "Accuracy of the model:  0.8095238095238095\n"
     ]
    }
   ],
   "source": [
    "#Predict using model\n",
    "y_pred = model_KNN.predict(X_test_scale)\n",
    "\n",
    "cfm =confusion_matrix(y_test,y_pred)\n",
    "print(cfm)\n",
    "\n",
    "print(\"Classification report: \")\n",
    "\n",
    "print(classification_report(y_test,y_pred))\n",
    "\n",
    "acc=accuracy_score(y_test, y_pred)\n",
    "print(\"Accuracy of the model: \",acc)"
   ]
  },
  {
   "cell_type": "code",
   "execution_count": 53,
   "id": "70e39979",
   "metadata": {},
   "outputs": [
    {
     "name": "stdout",
     "output_type": "stream",
     "text": [
      "[[457  78]\n",
      " [110 225]]\n",
      "Classification report: \n",
      "              precision    recall  f1-score   support\n",
      "\n",
      "           0       0.81      0.85      0.83       535\n",
      "           1       0.74      0.67      0.71       335\n",
      "\n",
      "    accuracy                           0.78       870\n",
      "   macro avg       0.77      0.76      0.77       870\n",
      "weighted avg       0.78      0.78      0.78       870\n",
      "\n",
      "Accuracy of the model:  0.7839080459770115\n"
     ]
    }
   ],
   "source": [
    "#Predict using model\n",
    "y_pred = model_KNN.predict(X_train_scale)\n",
    "\n",
    "cfm =confusion_matrix(y_train,y_pred)\n",
    "print(cfm)\n",
    "\n",
    "print(\"Classification report: \")\n",
    "\n",
    "print(classification_report(y_train,y_pred))\n",
    "\n",
    "acc=accuracy_score(y_train, y_pred)\n",
    "print(\"Accuracy of the model: \",acc)"
   ]
  },
  {
   "cell_type": "code",
   "execution_count": 47,
   "id": "d2382037",
   "metadata": {},
   "outputs": [
    {
     "data": {
      "text/plain": [
       "array([0, 1, 1, 1, 0, 0, 0, 0, 1, 1, 1, 1, 0, 0, 0, 1, 0, 0, 0, 1, 0, 0,\n",
       "       0, 0, 0, 0, 0, 0, 1, 0, 0, 1, 1, 0, 0, 0, 0, 0, 0, 0, 0, 1, 0, 1,\n",
       "       0, 0, 0, 1, 0, 0, 0, 0, 1, 1, 0, 0, 1, 0, 1, 0, 0, 1, 0, 0, 0, 0,\n",
       "       1, 0, 1, 0, 0, 0, 0, 0, 0, 0, 0, 0, 1, 1, 0, 0, 1, 0, 1, 1, 0, 0,\n",
       "       1, 0, 0, 0, 0, 0, 0, 0, 0, 0, 1, 0, 1, 0, 0, 0, 0, 0, 1, 0, 0, 1,\n",
       "       0, 0, 0, 0, 1, 0, 0, 0, 1, 1, 0, 0, 0, 1, 0, 0, 0, 0, 1, 0, 0, 0,\n",
       "       0, 1, 0, 0, 1, 1, 0, 1, 1, 1, 1, 0, 0, 0, 0, 0, 0, 0, 0, 1, 0, 0,\n",
       "       0, 1, 0, 0, 0, 0, 0, 1, 0, 0, 0, 0, 1, 0, 0, 0, 0, 0, 1, 0, 0, 0,\n",
       "       0, 1, 0, 0, 1, 0, 0, 1, 1, 0, 1, 0, 0, 0, 1, 0, 0, 1, 1, 1, 0, 0,\n",
       "       1, 1, 0, 0, 0, 0, 0, 1, 0, 0, 0, 0, 0, 1, 0, 0, 0, 1, 1, 0, 1, 0,\n",
       "       0, 0, 0, 0, 0, 0, 0, 0, 0, 1, 1, 0, 0, 0, 0, 1, 0, 1, 0, 0, 1, 1,\n",
       "       0, 0, 0, 0, 1, 1, 1, 0, 0, 1, 0, 0, 0, 1, 1, 1, 1, 1, 0, 0, 0, 0,\n",
       "       1, 0, 0, 0, 1, 1, 0, 0, 1, 1, 1, 1, 0, 0, 0, 0, 0, 0, 0, 0, 0, 0,\n",
       "       0, 0, 0, 1, 1, 1, 0, 1, 0, 0, 0, 1, 0, 1, 1, 0, 0, 1, 0, 1, 1, 1,\n",
       "       0, 1, 1, 1, 1, 0, 0, 1, 1, 0, 1, 1, 0, 0, 1, 1, 0, 1, 0, 1, 0, 1,\n",
       "       1, 0, 0, 0, 1, 0, 0, 1, 0, 0, 1, 1, 0, 0, 0, 1, 1, 1, 0, 0, 0, 0,\n",
       "       0, 0, 0, 0, 1, 1, 1, 1, 0, 0, 0, 0, 0, 0, 1, 1, 1, 1, 1, 0, 0, 0,\n",
       "       1, 1, 1, 0, 0, 0, 1, 1, 0, 1, 0, 0, 0, 1, 0, 1, 1, 0, 0, 1, 1, 0,\n",
       "       0, 0, 0, 1, 0, 0, 1, 0, 0, 0, 0, 1, 0, 1, 0, 0, 1, 0, 0, 1, 1, 1,\n",
       "       0, 0, 0, 0, 0, 1, 0, 0, 1, 1, 0, 0, 0, 1, 1, 0, 1, 1, 1, 1, 0, 0,\n",
       "       1, 0, 0, 1, 0, 1, 1, 1, 0, 0, 0, 0, 0, 0, 0, 0, 0, 1, 1, 0, 0, 0,\n",
       "       0, 0, 0, 0, 0, 0, 0, 1, 0, 0, 1, 1, 1, 0, 0, 0, 0, 1, 0, 0, 0, 0,\n",
       "       1, 1, 1, 0, 0, 0, 0, 0, 0, 0, 0, 0, 1, 0, 1, 0, 0, 1, 1, 0, 1, 0,\n",
       "       1, 0, 0, 0, 0, 0, 1, 1, 0, 0, 1, 0, 1, 0, 1, 0, 0, 1, 0, 0, 1, 0,\n",
       "       0, 0, 1, 0, 0, 1, 1, 1, 0, 1, 0, 1, 1, 0, 0, 0, 1, 0, 1, 0, 0, 1,\n",
       "       0, 0, 0, 0, 1, 0, 1, 0, 1, 0, 0, 0, 0, 0, 1, 0, 0, 1, 0, 0, 0, 1,\n",
       "       1, 1, 0, 0, 1, 1, 1, 0, 1, 1, 0, 1, 0, 1, 0, 0, 0, 0, 0, 1, 0, 1,\n",
       "       0, 0, 1, 0, 0, 0, 1, 0, 0, 0, 1, 0, 0, 0, 1, 1, 0, 0, 1, 0, 0, 1,\n",
       "       0, 1, 1, 0, 0, 0, 0, 0, 0, 0, 0, 1, 0, 0, 0, 0, 0, 0, 0, 1, 0, 0,\n",
       "       0, 0, 0, 1, 1, 0, 1, 0, 0, 0, 0, 1, 0, 1, 0, 1, 0, 0, 0, 0, 0, 0,\n",
       "       1, 0, 0, 0, 0, 0, 0, 0, 0, 1, 1, 0, 0, 0, 0, 0, 0, 0, 0, 1, 1, 0,\n",
       "       0, 0, 0, 0, 0, 0, 0, 1, 0, 1, 0, 0, 0, 0, 0, 1, 0, 0, 1, 1, 0, 0,\n",
       "       0, 0, 1, 0, 1, 0, 1, 0, 0, 0, 0, 0, 1, 1, 0, 0, 1, 0, 0, 0, 0, 0,\n",
       "       1, 1, 0, 1, 1, 0, 0, 0, 0, 0, 0, 1, 0, 0, 0, 1, 1, 0, 0, 0, 0, 1,\n",
       "       0, 0, 1, 0, 0, 0, 1, 1, 0, 0, 0, 1, 0, 0, 0, 1, 0, 1, 0, 0, 0, 0,\n",
       "       0, 0, 1, 0, 1, 0, 0, 0, 0, 1, 0, 1, 0, 0, 0, 0, 0, 0, 0, 0, 0, 0,\n",
       "       1, 0, 0, 0, 1, 0, 0, 1, 0, 1, 1, 0, 0, 0, 0, 0, 0, 1, 0, 0, 0, 0,\n",
       "       0, 0, 1, 0, 0, 0, 1, 0, 0, 1, 0, 0, 0, 1, 0, 1, 0, 1, 0, 0, 0, 1,\n",
       "       0, 0, 0, 0, 0, 0, 1, 0, 0, 0, 0, 0, 0, 1, 0, 0, 0, 1, 1, 0, 1, 1,\n",
       "       1, 0, 0, 0, 1, 1, 0, 1, 1, 0, 0, 0])"
      ]
     },
     "execution_count": 47,
     "metadata": {},
     "output_type": "execute_result"
    }
   ],
   "source": [
    "y_pred"
   ]
  },
  {
   "cell_type": "code",
   "execution_count": 48,
   "id": "de1b37fe",
   "metadata": {},
   "outputs": [
    {
     "data": {
      "text/plain": [
       "array([0, 1, 0, 0, 1, 1, 0, 0, 0, 1, 1, 0, 0, 0, 0, 0, 0, 1, 0, 1, 0])"
      ]
     },
     "execution_count": 48,
     "metadata": {},
     "output_type": "execute_result"
    }
   ],
   "source": [
    "y_test"
   ]
  },
  {
   "cell_type": "code",
   "execution_count": 61,
   "id": "7a890a98",
   "metadata": {},
   "outputs": [
    {
     "name": "stdout",
     "output_type": "stream",
     "text": [
      "Accuracy is: 0.81 for K-value: 1\n",
      "Accuracy is: 0.76 for K-value: 2\n",
      "Accuracy is: 0.81 for K-value: 3\n",
      "Accuracy is: 0.76 for K-value: 4\n",
      "Accuracy is: 0.86 for K-value: 5\n",
      "Accuracy is: 0.86 for K-value: 6\n",
      "Accuracy is: 0.81 for K-value: 7\n",
      "Accuracy is: 0.86 for K-value: 8\n",
      "Accuracy is: 0.86 for K-value: 9\n",
      "Accuracy is: 0.86 for K-value: 10\n",
      "Accuracy is: 0.86 for K-value: 11\n",
      "Accuracy is: 0.9 for K-value: 12\n",
      "Accuracy is: 0.9 for K-value: 13\n",
      "Accuracy is: 0.81 for K-value: 14\n",
      "Accuracy is: 0.81 for K-value: 15\n",
      "Accuracy is: 0.76 for K-value: 16\n",
      "Accuracy is: 0.76 for K-value: 17\n",
      "Accuracy is: 0.81 for K-value: 18\n",
      "Accuracy is: 0.81 for K-value: 19\n",
      "Accuracy is: 0.76 for K-value: 20\n",
      "Accuracy is: 0.81 for K-value: 21\n",
      "Accuracy is: 0.81 for K-value: 22\n",
      "Accuracy is: 0.81 for K-value: 23\n",
      "Accuracy is: 0.86 for K-value: 24\n",
      "Accuracy is: 0.76 for K-value: 25\n",
      "Accuracy is: 0.86 for K-value: 26\n",
      "Accuracy is: 0.86 for K-value: 27\n",
      "Accuracy is: 0.86 for K-value: 28\n",
      "Accuracy is: 0.86 for K-value: 29\n",
      "Accuracy is: 0.86 for K-value: 30\n"
     ]
    }
   ],
   "source": [
    "acc_dict = dict()\n",
    "\n",
    "for K in range(1, 31):\n",
    "    # create objeck with k value\n",
    "    model_KNN = KNeighborsClassifier(K, metric = 'euclidean')\n",
    "    \n",
    "    # model fit\n",
    "    model_KNN.fit(X_train_scale, y_train)\n",
    "    \n",
    "    # model prediction\n",
    "    y_pred = model_KNN.predict(X_test_scale)\n",
    "    \n",
    "    acc_score = round(accuracy_score(y_test, y_pred), 2)\n",
    "    \n",
    "    # print accuracy score\n",
    "    print(\"Accuracy is: {} for K-value: {}\".format(acc_score,K))\n",
    "    acc_dict[K] = acc_score"
   ]
  },
  {
   "cell_type": "code",
   "execution_count": 62,
   "id": "ac0cc3ad",
   "metadata": {},
   "outputs": [
    {
     "name": "stdout",
     "output_type": "stream",
     "text": [
      "12 : 0.9\n",
      "13 : 0.9\n"
     ]
    }
   ],
   "source": [
    "for k in acc_dict:\n",
    "    if acc_dict[k] == max(acc_dict.values()):\n",
    "        print(k, \":\", acc_dict[k])"
   ]
  },
  {
   "cell_type": "code",
   "execution_count": 64,
   "id": "d43623bd",
   "metadata": {},
   "outputs": [],
   "source": [
    "model = KNeighborsClassifier(n_neighbors=5, metric =\"euclidean\", n_jobs=-1)\n",
    "\n",
    "# modelfir\n",
    "model.fit(X_train_scale, y_train)\n",
    "\n",
    "# model prediction\n",
    "y_pred = model.predict(X_test_scale)"
   ]
  },
  {
   "cell_type": "code",
   "execution_count": 65,
   "id": "4092bd55",
   "metadata": {},
   "outputs": [
    {
     "name": "stdout",
     "output_type": "stream",
     "text": [
      "[[11  3]\n",
      " [ 0  7]]\n",
      "\n",
      "Classification report: \n",
      "              precision    recall  f1-score   support\n",
      "\n",
      "           0       1.00      0.79      0.88        14\n",
      "           1       0.70      1.00      0.82         7\n",
      "\n",
      "    accuracy                           0.86        21\n",
      "   macro avg       0.85      0.89      0.85        21\n",
      "weighted avg       0.90      0.86      0.86        21\n",
      "\n",
      "Accuracy of the model:  0.8571428571428571\n"
     ]
    }
   ],
   "source": [
    "conf_matrix = confusion_matrix(y_test, y_pred)\n",
    "print(conf_matrix)\n",
    "print()\n",
    "\n",
    "print(\"Classification report: \")\n",
    "print(classification_report(y_test, y_pred))\n",
    "\n",
    "acc_score = accuracy_score(y_test, y_pred)\n",
    "print(\"Accuracy of the model: \", acc_score)"
   ]
  },
  {
   "cell_type": "code",
   "execution_count": 66,
   "id": "e85d806c",
   "metadata": {},
   "outputs": [
    {
     "name": "stdout",
     "output_type": "stream",
     "text": [
      "[[489  46]\n",
      " [ 87 248]]\n",
      "\n",
      "Classification report: \n",
      "              precision    recall  f1-score   support\n",
      "\n",
      "           0       0.85      0.91      0.88       535\n",
      "           1       0.84      0.74      0.79       335\n",
      "\n",
      "    accuracy                           0.85       870\n",
      "   macro avg       0.85      0.83      0.83       870\n",
      "weighted avg       0.85      0.85      0.84       870\n",
      "\n",
      "Accuracy of the model:  0.8471264367816091\n"
     ]
    }
   ],
   "source": [
    "y_pred = model.predict(X_train_scale)\n",
    "\n",
    "conf_matrix = confusion_matrix(y_train, y_pred)\n",
    "print(conf_matrix)\n",
    "print()\n",
    "\n",
    "print(\"Classification report: \")\n",
    "print(classification_report(y_train, y_pred))\n",
    "\n",
    "acc_score = accuracy_score(y_train, y_pred)\n",
    "print(\"Accuracy of the model: \", acc_score)\n"
   ]
  },
  {
   "cell_type": "code",
   "execution_count": null,
   "id": "5ba0de3a",
   "metadata": {},
   "outputs": [],
   "source": []
  },
  {
   "cell_type": "code",
   "execution_count": null,
   "id": "b0898e7a",
   "metadata": {},
   "outputs": [],
   "source": []
  },
  {
   "cell_type": "code",
   "execution_count": null,
   "id": "2de02057",
   "metadata": {},
   "outputs": [],
   "source": []
  }
 ],
 "metadata": {
  "kernelspec": {
   "display_name": "Python 3 (ipykernel)",
   "language": "python",
   "name": "python3"
  },
  "language_info": {
   "codemirror_mode": {
    "name": "ipython",
    "version": 3
   },
   "file_extension": ".py",
   "mimetype": "text/x-python",
   "name": "python",
   "nbconvert_exporter": "python",
   "pygments_lexer": "ipython3",
   "version": "3.9.12"
  }
 },
 "nbformat": 4,
 "nbformat_minor": 5
}
